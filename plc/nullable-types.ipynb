{
 "cells": [
  {
   "cell_type": "markdown",
   "metadata": {},
   "source": [
    "# Nullable types\n",
    "\n",
    "Many object-oriented languages follow the *ALGOL W* example and allow *null references*. Tony Hoare invented the concept in 1965 and since then has called it his \"[my] billion dollar mistake\".\n",
    "\n",
    "The follwoing example is destilled from assignment solutions for the lecture *Computergrafi Grundlagen*. \n",
    "\n",
    "The `Shape` interface states that a method `intersect()` exists that takes an object of type `Ray` as an argument and returns an object of type `Hit`."
   ]
  },
  {
   "cell_type": "code",
   "execution_count": 7,
   "metadata": {},
   "outputs": [],
   "source": [
    "class Hit {double t;}\n",
    "class Ray {}\n",
    "\n",
    "interface Shape {\n",
    "    Hit intersect(Ray r);\n",
    "}"
   ]
  },
  {
   "cell_type": "markdown",
   "metadata": {},
   "source": [
    "Concrete instances of `Shape` implement the intersection method differently. For example the `Sphere` class implements it like this:"
   ]
  },
  {
   "cell_type": "markdown",
   "metadata": {},
   "source": [
    "```java\n",
    "class Sphere implements Shape{\n",
    "    Hit intersect(Ray r) {\n",
    "        if (/* some involved test */)\n",
    "            return new Hit(/* some value for t */);\n",
    "        else\n",
    "            return null;\n",
    "    }\n",
    "}\n",
    "```\n",
    "\n",
    "Client code of the `Shape` interface has to be prepared,that instead of a valid `Hit` object, `null` is returned to signal the absence of a hit. The interface however, does not explicitly state that this might happen.\n",
    "\n",
    "A better solution is to use the `Optional` type that explicitly says *there might be no value* and forces the programmer to check before using a value."
   ]
  },
  {
   "cell_type": "code",
   "execution_count": 8,
   "metadata": {},
   "outputs": [],
   "source": [
    "interface Shape {\n",
    "    Optional<Hit> intersect(Ray r);\n",
    "}"
   ]
  },
  {
   "cell_type": "markdown",
   "metadata": {},
   "source": []
  }
 ],
 "metadata": {
  "kernelspec": {
   "display_name": "Java",
   "language": "java",
   "name": "java"
  },
  "language_info": {
   "codemirror_mode": "java",
   "file_extension": ".java",
   "mimetype": "text/x-java-source",
   "name": "Java",
   "pygments_lexer": "java",
   "version": "11.0.2+9-LTS"
  }
 },
 "nbformat": 4,
 "nbformat_minor": 2
}
