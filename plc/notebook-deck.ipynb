{
 "cells": [
  {
   "cell_type": "markdown",
   "metadata": {},
   "source": [
    "------------------------------------------------------------------------\n",
    "\n",
    "In the notebook\n",
    "===============\n",
    "\n",
    "Selected content\n",
    "----------------\n",
    "\n",
    "-   Only slides marked with `{.notebook}`\n",
    "\n",
    "Code block as cells\n",
    "-------------------\n",
    "\n",
    "-   Code blocks marked with `{.code}`\n",
    "\n",
    "------------------------------------------------------------------------\n",
    "\n",
    "A live code cell (Haskell)\n",
    "==========================\n",
    "\n",
    "This cell will be live in the notebook."
   ]
  },
  {
   "cell_type": "code",
   "execution_count": 1,
   "metadata": {},
   "outputs": [
    {
     "data": {
      "text/plain": [
       "Hello World!"
      ]
     },
     "metadata": {},
     "output_type": "display_data"
    }
   ],
   "source": [
    "main = putStrLn \"Hello World!\"\n",
    "main"
   ]
  },
  {
   "cell_type": "code",
   "execution_count": null,
   "metadata": {},
   "outputs": [],
   "source": []
  }
 ],
 "metadata": {
  "kernelspec": {
   "display_name": "Haskell",
   "language": "haskell",
   "name": "haskell"
  },
  "language_info": {
   "codemirror_mode": "ihaskell",
   "file_extension": ".hs",
   "name": "haskell",
   "pygments_lexer": "Haskell",
   "version": "8.6.5"
  }
 },
 "nbformat": 4,
 "nbformat_minor": 5
}
