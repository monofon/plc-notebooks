{
 "cells": [
  {
   "cell_type": "markdown",
   "metadata": {},
   "source": [
    "------------------------------------------------------------------------\n",
    "\n",
    "Recursive operations on lists\n",
    "=============================\n",
    "\n",
    "Task: Calculate the arithmetic mean of a list of numbers\n",
    "--------------------------------------------------------\n",
    "\n",
    "$$\n",
    "\\bar{x} = \\frac{1}{n}\\left (\\sum_{i=1}^n{x_i}\\right ) = \\frac{x_1+x_2+\\cdots +x_n}{n}\n",
    "$$\n",
    "\n",
    "The mean function\n",
    "-----------------"
   ]
  },
  {
   "cell_type": "code",
   "execution_count": null,
   "metadata": {
    "label": "Haskell"
   },
   "outputs": [],
   "source": [
    "mean list = totalSum list / count list"
   ]
  },
  {
   "cell_type": "markdown",
   "metadata": {},
   "source": [
    "[Now implement `count` and `totalSum`]{.fragment}\n",
    "\n",
    "------------------------------------------------------------------------\n",
    "\n",
    "Recursive operations on lists\n",
    "=============================\n",
    "\n",
    "Task: Calculate the number of elements in a list\n",
    "------------------------------------------------\n",
    "\n",
    "The function `count`\n",
    "--------------------"
   ]
  },
  {
   "cell_type": "code",
   "execution_count": null,
   "metadata": {
    "label": "Haskell"
   },
   "outputs": [],
   "source": [
    "count list =\n",
    "  if null list\n",
    "    then 0\n",
    "    else 1 + count (tail list)"
   ]
  },
  {
   "cell_type": "markdown",
   "metadata": {},
   "source": [
    "------------------------------------------------------------------------\n",
    "\n",
    "Recursive operations on lists\n",
    "=============================\n",
    "\n",
    "Task: Calculate the sum of elements in a list of numbers\n",
    "--------------------------------------------------------\n",
    "\n",
    "The function `totalSum`\n",
    "-----------------------"
   ]
  },
  {
   "cell_type": "code",
   "execution_count": null,
   "metadata": {
    "label": "Haskell"
   },
   "outputs": [],
   "source": [
    "totalSum list =\n",
    "  if null list \n",
    "    then 0\n",
    "    else head list + totalSum (tail list)"
   ]
  },
  {
   "cell_type": "markdown",
   "metadata": {},
   "source": [
    "------------------------------------------------------------------------\n",
    "\n",
    "Haskell implementation\n",
    "======================\n",
    "\n",
    "Naive but straight forward\n",
    "--------------------------"
   ]
  },
  {
   "cell_type": "code",
   "execution_count": null,
   "metadata": {
    "label": "Haskell"
   },
   "outputs": [],
   "source": [
    "fibN n =\n",
    "  if n == 0\n",
    "    then 0\n",
    "    else if n == 1\n",
    "           then 1\n",
    "           else fibN (n - 1) + fibN (n - 2)\n"
   ]
  },
  {
   "cell_type": "markdown",
   "metadata": {},
   "source": [
    "Problems of this implementation?\n",
    "--------------------------------\n",
    "\n",
    "------------------------------------------------------------------------\n",
    "\n",
    "Guard blocks\n",
    "============\n",
    "\n",
    "Guard syntax\n",
    "------------"
   ]
  },
  {
   "cell_type": "code",
   "execution_count": null,
   "metadata": {
    "label": "Haskell"
   },
   "outputs": [],
   "source": [
    "fibG n\n",
    "  | n == 0 = 0\n",
    "  | n == 1 = 1\n",
    "  | otherwise = fibG (n - 1) + fibG (n - 2)\n"
   ]
  },
  {
   "cell_type": "markdown",
   "metadata": {},
   "source": [
    "Multiple function definitions\n",
    "-----------------------------\n",
    "\n",
    "-   Different implementations\n",
    "-   Selection based on *parameter values*\n",
    "-   *Guard blocks* are conditional expressions of the parameter values\n",
    "-   (`otherwise` is just a global binding for the value `True`)\n",
    "\n",
    "------------------------------------------------------------------------\n",
    "\n",
    "Fibonacci Haskell implementation\n",
    "================================\n",
    "\n",
    "Naive with pattern matching\n",
    "---------------------------"
   ]
  },
  {
   "cell_type": "code",
   "execution_count": null,
   "metadata": {
    "label": "Haskell"
   },
   "outputs": [],
   "source": [
    "fibP 0 = 0\n",
    "fibP 1 = 1\n",
    "fibP n = fibP (n - 1) + fibP (n - 2)\n"
   ]
  },
  {
   "cell_type": "markdown",
   "metadata": {},
   "source": [
    "But still $\\cal O(\\mathrm{fib}\\ n)$\n",
    "-----------------------------------\n",
    "\n",
    "-   Very inefficient\n",
    "-   Useless for $F_{30}$ or bigger\n",
    "\n",
    "Solution?\n",
    "---------\n",
    "\n",
    "-   Calculate $F_{n-1}$ and $F_{n-2}$ beforehand\n",
    "-   Pass to `fib` function as arguments\n",
    "\n",
    "------------------------------------------------------------------------\n",
    "\n",
    "Fibonacci Haskell implementation\n",
    "================================\n",
    "\n",
    "With accumulator parameters `f2` and `f1`\n",
    "-----------------------------------------"
   ]
  },
  {
   "cell_type": "code",
   "execution_count": null,
   "metadata": {
    "label": "Haskell"
   },
   "outputs": [],
   "source": [
    "fibF n = fibF' n 0 1\n",
    "\n",
    "fibF' 0 f2 f1 = f2\n",
    "fibF' n f2 f1 = fibF' (n-1) f1 (f1+f2)\n"
   ]
  },
  {
   "cell_type": "markdown",
   "metadata": {},
   "source": [
    "------------------------------------------------------------------------\n",
    "\n",
    "Top-level scope in Haskell\n",
    "==========================\n",
    "\n",
    "Declarations at file-level\n",
    "--------------------------\n",
    "\n",
    "-   Names bound at the top-level have *file scope*\n",
    "-   They can be used in every expression in that file\n",
    "-   The binding order does not matter\n",
    "\n",
    "Example file `Triple.hs`\n",
    "------------------------"
   ]
  },
  {
   "cell_type": "code",
   "execution_count": null,
   "metadata": {
    "label": "Haskell"
   },
   "outputs": [],
   "source": [
    "module Triple where\n",
    "\n",
    "main = print (triple seven)\n",
    "\n",
    "seven = 7\n",
    "\n",
    "triple x = x + x + x\n"
   ]
  },
  {
   "cell_type": "markdown",
   "metadata": {},
   "source": [
    "------------------------------------------------------------------------\n",
    "\n",
    "Expression scope in Haskell\n",
    "===========================\n",
    "\n",
    "`let` expression\n",
    "----------------\n",
    "\n",
    "``` {.haskell}\n",
    "let name = value\n",
    "    name' = value' \n",
    " in expression\n",
    "```\n",
    "\n",
    "-   Binds `value` to `name`\n",
    "-   Binding is valid in the `expression`\n",
    "-   Scope is limited to `expression`\n",
    "-   Multiple name value pairs are possible\n",
    "\n",
    "Example\n",
    "-------"
   ]
  },
  {
   "cell_type": "code",
   "execution_count": null,
   "metadata": {
    "label": "Haskell"
   },
   "outputs": [],
   "source": [
    "module Crew where\n",
    "\n",
    "main = print bridgeCrew\n",
    "\n",
    "officers = [\"Picard\", \"Ryker\"]\n",
    "\n",
    "bridgeCrew =\n",
    "  let officers = [\"Kirk\", \"Spock\"]\n",
    "      others = [\"Uhura\", \"Sulu\", \"Checkov\"]\n",
    "   in officers ++ others\n"
   ]
  }
 ],
 "nbformat": 4,
 "nbformat_minor": 5,
 "metadata": {
  "language_info": {
   "name": "haskell",
   "file_extension": ".hs",
   "pygments_lexer": "Haskell",
   "version": "8.6.5",
   "codemirror_mode": "ihaskell"
  },
  "kernelspec": {
   "name": "haskell",
   "display_name": "Haskell",
   "language": "haskell"
  }
 }
}
