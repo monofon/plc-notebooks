{
 "cells": [
  {
   "cell_type": "markdown",
   "metadata": {
    "slideshow": {
     "slide_type": "slide"
    }
   },
   "source": [
    "# Haskell - First Look\n",
    "\n",
    "- [Programming Languages and Concepts](https://tramberend.beuth-hochschule.de/course/plc/)\n",
    "- Winter 2019\n",
    "- [Prof. Dr. Henrik Tramberend](https://tramberend.beuth-hochschule.de/)"
   ]
  },
  {
   "cell_type": "markdown",
   "metadata": {
    "slideshow": {
     "slide_type": "slide"
    }
   },
   "source": [
    "# This is a JupyterLab Notebook\n",
    "\n",
    "- Experiment for the interactive presentation of code\n",
    "- It runs on an IHaskell kernel\n",
    "- This is like running `ghci` on the command line"
   ]
  },
  {
   "cell_type": "markdown",
   "metadata": {},
   "source": [
    "# Functions\n",
    "\n",
    "Working with a simple poem\n",
    "\n",
    "    Stay the patient course.\n",
    "    Of little worth is your ire.\n",
    "    The network is down"
   ]
  },
  {
   "cell_type": "markdown",
   "metadata": {},
   "source": [
    "Put the poem into a string and bind that to a name."
   ]
  },
  {
   "cell_type": "code",
   "execution_count": null,
   "metadata": {
    "slideshow": {
     "slide_type": "slide"
    }
   },
   "outputs": [],
   "source": [
    "poem = \"Stay the patient course\\nOf little worth is your ire\\nThe network is down\\n\""
   ]
  },
  {
   "cell_type": "markdown",
   "metadata": {},
   "source": [
    "Evaluate the expression `poem` and display the resulting value. The function `putStrLn` is applied to the value of `poem`."
   ]
  },
  {
   "cell_type": "code",
   "execution_count": null,
   "metadata": {},
   "outputs": [],
   "source": [
    "putStrLn poem"
   ]
  },
  {
   "cell_type": "markdown",
   "metadata": {
    "slideshow": {
     "slide_type": "slide"
    }
   },
   "source": [
    "Function application is syntactically very reduced. The first expression is the function, the remaining expressions are the arguments.\n",
    "\n",
    "Operators are just functions of two arguments in *infix notation*. Parantheses are just for grouping. Try to add a few numbers."
   ]
  },
  {
   "cell_type": "code",
   "execution_count": null,
   "metadata": {},
   "outputs": [],
   "source": [
    "1 + 2 + 3 + 4"
   ]
  },
  {
   "cell_type": "markdown",
   "metadata": {},
   "source": [
    "Jupyter Notebooks are clever beasts. If the resulting value of an evaluation at the top-level is not used otherwise, it is just displayed.\n",
    "\n",
    "Now, extract a list of line strings from the text block."
   ]
  },
  {
   "cell_type": "code",
   "execution_count": null,
   "metadata": {},
   "outputs": [],
   "source": [
    "lines poem"
   ]
  },
  {
   "cell_type": "markdown",
   "metadata": {},
   "source": [
    "The value of the last expression is displayed in the Haskell literal notation for a *list of strings*.\n",
    "\n",
    "Extend the code above to reverse the order of the lines and reassemble the text block.\n",
    "\n",
    "Haskell uses modules to structure programs. Functions and datatypes can be imported from other modules. Useful list functions are in the `Data.List` module. "
   ]
  },
  {
   "cell_type": "code",
   "execution_count": null,
   "metadata": {},
   "outputs": [],
   "source": [
    "import Data.List\n",
    "\n",
    "putStrLn (unlines (reverse (lines poem)))"
   ]
  },
  {
   "cell_type": "markdown",
   "metadata": {},
   "source": [
    "Define a function that does that. Function definition is also very reduced."
   ]
  },
  {
   "cell_type": "code",
   "execution_count": null,
   "metadata": {},
   "outputs": [],
   "source": [
    "process text = unlines (reverse (lines text))\n",
    "\n",
    "putStrLn (process poem)"
   ]
  },
  {
   "cell_type": "markdown",
   "metadata": {},
   "source": [
    "The function `process` can be written in a different style. The operator `.` composes functions, just like in function algebra:\n",
    "\n",
    "\\begin{equation*}\n",
    "f(g(x)) = (f\\cdot g)(x)\n",
    "\\end{equation*}"
   ]
  },
  {
   "cell_type": "code",
   "execution_count": null,
   "metadata": {},
   "outputs": [],
   "source": [
    "process = unlines . reverse . lines "
   ]
  },
  {
   "cell_type": "code",
   "execution_count": null,
   "metadata": {},
   "outputs": [],
   "source": [
    "process = unlines . reverse . lines\n",
    "\n",
    "putStrLn $ process poem"
   ]
  },
  {
   "cell_type": "markdown",
   "metadata": {},
   "source": [
    "The operator `$` helps to save parantheses. Haskellers don`t like parantheses. The following to function invokations are all equivalent:\n",
    "\n",
    "```haskell\n",
    "putStrLn (process poem)\n",
    "(putStrLn . process) poem\n",
    "putStrLn $ process poem\n",
    "```"
   ]
  },
  {
   "cell_type": "markdown",
   "metadata": {},
   "source": [
    "Define more functions like that on blocks of text."
   ]
  },
  {
   "cell_type": "code",
   "execution_count": null,
   "metadata": {},
   "outputs": [],
   "source": [
    "reverseLines   = unlines . reverse . lines\n",
    "firstTwoLines = unlines . take 2 . lines\n",
    "lastLine      = unlines . (take 1 . reverse) . lines"
   ]
  },
  {
   "cell_type": "code",
   "execution_count": null,
   "metadata": {},
   "outputs": [],
   "source": [
    "putStrLn $ reverseLines poem\n",
    "putStrLn $ firstTwoLines poem\n",
    "putStrLn $ lastLine poem"
   ]
  },
  {
   "cell_type": "markdown",
   "metadata": {},
   "source": [
    "Line splitting and joining can be factored into a new function. This is *higher order programming* in Haskell."
   ]
  },
  {
   "cell_type": "code",
   "execution_count": null,
   "metadata": {},
   "outputs": [],
   "source": [
    "byLine f = unlines . f . lines\n",
    "\n",
    "reverseLines  = byLine reverse\n",
    "firstTwoLines = byLine (take 2)\n",
    "lastLine      = byLine (take 1 . reverse)"
   ]
  },
  {
   "cell_type": "code",
   "execution_count": null,
   "metadata": {},
   "outputs": [],
   "source": [
    ":type reverseLines"
   ]
  },
  {
   "cell_type": "markdown",
   "metadata": {},
   "source": [
    "Write a new function to indent the lines."
   ]
  },
  {
   "cell_type": "code",
   "execution_count": null,
   "metadata": {},
   "outputs": [],
   "source": [
    "indent :: String -> String\n",
    "indent s = \"    \" ++ s"
   ]
  },
  {
   "cell_type": "markdown",
   "metadata": {},
   "source": [
    "The first line is the *type signature* of the function. Type signatures are basically comments for the programmer, the compiler does not need them most of the time. It uses *type inference* to calculate types for lall and any expression the code.\n",
    "\n",
    "`ghci` can be asked to print the type for any expression. Check types for `poem`, `indent` and `reverse`."
   ]
  },
  {
   "cell_type": "code",
   "execution_count": null,
   "metadata": {},
   "outputs": [],
   "source": [
    ":type poem"
   ]
  },
  {
   "cell_type": "markdown",
   "metadata": {},
   "source": [
    "Try to use the `indent` function."
   ]
  },
  {
   "cell_type": "code",
   "execution_count": null,
   "metadata": {},
   "outputs": [],
   "source": [
    "indentLines = id"
   ]
  },
  {
   "cell_type": "markdown",
   "metadata": {},
   "source": [
    "What is the problem? Look at the expected and actual types. Which type does `byLine` have? Which type does `indent` have?"
   ]
  },
  {
   "cell_type": "code",
   "execution_count": null,
   "metadata": {},
   "outputs": [],
   "source": [
    ":type indent"
   ]
  },
  {
   "cell_type": "markdown",
   "metadata": {},
   "source": [
    "How to apply a function on strings to a list of strings?\n",
    "\n",
    "Use `map` to do that. Which type does `map` have?"
   ]
  },
  {
   "cell_type": "code",
   "execution_count": null,
   "metadata": {},
   "outputs": [],
   "source": [
    ":type map"
   ]
  },
  {
   "cell_type": "markdown",
   "metadata": {},
   "source": [
    "`a` and `b` are *type variables* that state that map can be used on values of any type and lists on those values.\n",
    "\n",
    "Use `map` to apply the `indent` function to a list of strings."
   ]
  },
  {
   "cell_type": "code",
   "execution_count": null,
   "metadata": {},
   "outputs": [],
   "source": [
    "indentLines = byLine (map indent)"
   ]
  },
  {
   "cell_type": "code",
   "execution_count": null,
   "metadata": {},
   "outputs": [],
   "source": [
    "putStrLn $ indentLines poem"
   ]
  },
  {
   "cell_type": "markdown",
   "metadata": {},
   "source": [
    "# Data \n",
    "\n",
    "Lists can be written in brackets `[]`. Lists can be constructed with the `:` operator which appends an element in front of a list."
   ]
  },
  {
   "cell_type": "code",
   "execution_count": null,
   "metadata": {},
   "outputs": [],
   "source": [
    "['a', 'b']"
   ]
  },
  {
   "cell_type": "markdown",
   "metadata": {},
   "source": [
    "Strings are just a list of characters."
   ]
  },
  {
   "cell_type": "code",
   "execution_count": null,
   "metadata": {},
   "outputs": [],
   "source": [
    "'a':'b':[]"
   ]
  },
  {
   "cell_type": "markdown",
   "metadata": {},
   "source": [
    "Functions can use *pattern matching* to perform different operations for different cases. Patterns are made of *constructors*.\n",
    "\n",
    "Define function `count` to count the number of elements in a list."
   ]
  },
  {
   "cell_type": "code",
   "execution_count": null,
   "metadata": {},
   "outputs": [],
   "source": [
    "count \"Hallo\"\n",
    "count [1,2,3,4]"
   ]
  },
  {
   "cell_type": "markdown",
   "metadata": {},
   "source": [
    "There was no type signature defined for `count` and it could be applied to lists of characters and lists of numbers. What is type of `count`?"
   ]
  },
  {
   "cell_type": "code",
   "execution_count": null,
   "metadata": {},
   "outputs": [],
   "source": [
    ":type count"
   ]
  },
  {
   "cell_type": "markdown",
   "metadata": {},
   "source": [
    "`count` is automatically given the most generic type signature the compiler can find."
   ]
  },
  {
   "cell_type": "markdown",
   "metadata": {},
   "source": [
    "A *Tuple* is a fixed numbered collection of possibly heterogenous values. Define a tuple consisting of a number and a string."
   ]
  },
  {
   "cell_type": "code",
   "execution_count": null,
   "metadata": {},
   "outputs": [],
   "source": [
    "(42, \"hello\")"
   ]
  },
  {
   "cell_type": "markdown",
   "metadata": {},
   "source": [
    "Define a 3D vector type from tuple and define an add function. Use pattern matching."
   ]
  },
  {
   "cell_type": "code",
   "execution_count": null,
   "metadata": {},
   "outputs": [],
   "source": [
    "type Vec3 = (Float, Float, Float)\n",
    "\n",
    "add :: Vec3 -> Vec3 -> Vec3\n",
    "add (x1, y1, z1) (x2, y2, z2) = (x1+x2, y1+y2, z1+z2)"
   ]
  },
  {
   "cell_type": "code",
   "execution_count": null,
   "metadata": {},
   "outputs": [],
   "source": [
    ":type add"
   ]
  },
  {
   "cell_type": "markdown",
   "metadata": {},
   "source": [
    "*Algebraic data types* are composite user-defined types. Define a recursive binary tree type."
   ]
  },
  {
   "cell_type": "code",
   "execution_count": null,
   "metadata": {},
   "outputs": [],
   "source": []
  },
  {
   "cell_type": "markdown",
   "metadata": {},
   "source": [
    "Define a function that calculates the depth of a tree."
   ]
  },
  {
   "cell_type": "code",
   "execution_count": null,
   "metadata": {},
   "outputs": [],
   "source": []
  },
  {
   "cell_type": "code",
   "execution_count": null,
   "metadata": {
    "scrolled": true
   },
   "outputs": [],
   "source": [
    "t = Node \n",
    "      (Node \n",
    "         (Leaf \"a\") \n",
    "         (Node \n",
    "            Empty \n",
    "            (Leaf \"b\")))\n",
    "    Empty\n",
    "depth t"
   ]
  }
 ],
 "metadata": {
  "kernelspec": {
   "display_name": "Haskell",
   "language": "haskell",
   "name": "haskell"
  },
  "language_info": {
   "codemirror_mode": "ihaskell",
   "file_extension": ".hs",
   "name": "haskell",
   "pygments_lexer": "Haskell",
   "version": "8.6.5"
  }
 },
 "nbformat": 4,
 "nbformat_minor": 2
}
