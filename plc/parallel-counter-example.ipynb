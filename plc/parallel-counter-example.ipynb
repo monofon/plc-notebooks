{
 "cells": [
  {
   "cell_type": "markdown",
   "metadata": {},
   "source": [
    "# A counter class\n",
    "A counter manages a mutable variable that is incremented with each call to the counting method. The implementation is deceptively simple."
   ]
  },
  {
   "cell_type": "code",
   "execution_count": null,
   "metadata": {},
   "outputs": [],
   "source": [
    "public class Counter {\n",
    "    public int count = 0;\n",
    "    \n",
    "    public void count() {\n",
    "        count += 1;\n",
    "    }\n",
    "}"
   ]
  },
  {
   "cell_type": "markdown",
   "metadata": {},
   "source": [
    "Now instantiate a new `Counter` object and invoke method `count()` $N$ times. What is the expected result?"
   ]
  },
  {
   "cell_type": "code",
   "execution_count": null,
   "metadata": {},
   "outputs": [],
   "source": [
    "final int N = 10000;\n",
    "Counter counter = new Counter();\n",
    "\n",
    "for (int i = 0; i != N; i++)\n",
    "    counter.count();\n",
    "    \n",
    "counter.count;"
   ]
  },
  {
   "cell_type": "markdown",
   "metadata": {},
   "source": [
    "Invoke `count()` $N \\times N$ times in two nested loops. What is the expected result? "
   ]
  },
  {
   "cell_type": "code",
   "execution_count": null,
   "metadata": {
    "scrolled": true
   },
   "outputs": [],
   "source": [
    "Counter counter = new Counter();\n",
    "\n",
    "for (int t = 0; t != N; t++)\n",
    "    for (int i = 0; i != N; i++)\n",
    "        counter.count();\n",
    "        \n",
    "counter.count;"
   ]
  },
  {
   "cell_type": "markdown",
   "metadata": {},
   "source": [
    "## Concurrent counting\n",
    "\n",
    "Assume there should be N concurrent threads that each call count N times. What is the canonical way to implement that in Java?\n",
    "\n",
    "Exactly, class `java.lang.Thread`."
   ]
  },
  {
   "cell_type": "code",
   "execution_count": null,
   "metadata": {},
   "outputs": [],
   "source": [
    "Counter counter = new Counter();\n",
    "Thread[] thread = new Thread[N];\n",
    "\n",
    "for (int t = 0; t != N; t++)\n",
    "    thread[t] = new Thread() {\n",
    "        public void run() {\n",
    "            for (int i = 0; i != N; i++)\n",
    "                counter.count();\n",
    "        };\n",
    "    };\n",
    "    \n",
    "for (int t = 0; t != N; t++)\n",
    "    thread[t].start();\n",
    "\n",
    "for (int t = 0; t != N; t++)\n",
    "    thread[t].join();"
   ]
  },
  {
   "cell_type": "markdown",
   "metadata": {},
   "source": [
    "The implementation above uses an [*anonymous inner class*](https://en.wikipedia.org/wiki/Inner_class#Types_of_nested_classes_in_Java) to implement the `Runnable` instance. Since Java 8 there is an even more concise way to generate a `Runnable` using [*lambda expressions*](https://docs.oracle.com/javase/tutorial/java/javaOO/lambdaexpressions.html)."
   ]
  },
  {
   "cell_type": "code",
   "execution_count": null,
   "metadata": {},
   "outputs": [],
   "source": [
    "Counter counter = new Counter();\n",
    "Thread[] thread = new Thread[N];\n",
    "\n",
    "for (int t = 0; t != N; t++)\n",
    "    thread[t] = new Thread(() -> {\n",
    "        for (int i = 0; i != N; i++)\n",
    "            counter.count();\n",
    "    });\n",
    "\n",
    "for (int t = 0; t != N; t++)\n",
    "    thread[t].start();\n",
    "\n",
    "for (int t = 0; t != N; t++)\n",
    "    thread[t].join();"
   ]
  },
  {
   "cell_type": "markdown",
   "metadata": {},
   "source": [
    "Now N threads are created and executed concurrently. Each thead calls `count()` N times. What is the expected result?"
   ]
  },
  {
   "cell_type": "code",
   "execution_count": null,
   "metadata": {},
   "outputs": [],
   "source": [
    "counter.count;"
   ]
  },
  {
   "cell_type": "code",
   "execution_count": null,
   "metadata": {},
   "outputs": [],
   "source": [
    "N*N - counter.count;"
   ]
  },
  {
   "cell_type": "markdown",
   "metadata": {},
   "source": [
    "The expected result is of course $N\\times N$. But the actual result is a few thousand counts short. \n",
    "- What is happening here? \n",
    "- How can that be prevented. "
   ]
  }
 ],
 "metadata": {
  "kernelspec": {
   "display_name": "Java",
   "language": "java",
   "name": "java"
  },
  "language_info": {
   "codemirror_mode": "java",
   "file_extension": ".jshell",
   "mimetype": "text/x-java-source",
   "name": "Java",
   "pygments_lexer": "java",
   "version": "11.0.3+7"
  }
 },
 "nbformat": 4,
 "nbformat_minor": 2
}
