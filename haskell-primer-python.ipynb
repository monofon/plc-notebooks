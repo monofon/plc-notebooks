#%% Change working directory from the workspace root to the ipynb file location. Turn this addition off with the DataScience.changeDirOnImportExport setting
import os
try:
	os.chdir(os.path.join(os.getcwd(), 'notebook'))
	print(os.getcwd())
except:
	pass
#%% [markdown]
# # Haskell Language Primer
# 
# - [Programming Languages and Concepts](https://tramberend.beuth-hochschule.de/course/plc/)
# - Summer 2019
# - [Prof. Dr. Henrik Tramberend](https://tramberend.beuth-hochschule.de/)
#%% [markdown]
# # This is a JupyterLab Notebook
# 
# - Experiment for the interactive presentation of code
# - It runs on an IHaskell kernel
# - This is like running `ghci` on the command line
# 
# ![Picture](ghci.png)
# 
#%% [markdown]
# # Functions
# 
# Working with a simple poem
# 
#     Stay the patient course.
#     Of little worth is your ire.
#     The network is down
# 
#%% [markdown]
# Put the poem into a string and bind that to a name.

#%%
poem = "Stay the patient course\nOf little worth is your ire\nThe network is down\n"

#%% [markdown]
# Apply some funtions to the poem. Output the poem to `stdout`.

#%%
putStrLn poem

#%% [markdown]
# Function application is syntactically very reduced. The first expression is the function, the remaining expressions are the arguments.
# 
# Operators are just functions of two arguments in *infix notation*. Parantheses are just for grouping. Try to add a few numbers.

#%%
1 + 2 + 3 + 4

#%% [markdown]
# Extract a list of line strings from the text block.

#%%
lines poem

#%% [markdown]
# Extend the code above to reverse the order of the lines and reassemble the text block.
# 
# Haskell uses modules to structure programs. Functions and datatypes can be imported from other modules. Useful list functions are in the `Data.List` module. 

#%%
import Data.List

putStrLn (unlines (reverse (lines poem)))

#%% [markdown]
# Define a function that does that. Function definition is also very reduced.

#%%
process text = unlines (reverse (lines text))

putStrLn (process poem)

#%% [markdown]
# The function `process` can be written in a different style. The operator `.` composes functions, just like in function algebra:
# 
# \begin{equation*}
# f(g(x)) = (f\cdot g)(x)
# \end{equation*}

#%%
process = unlines . reverse . lines 

#%% [markdown]
# This is similar to the thread-last macro from Clojure
# 
# ```clojure
# (->> text 
#      (lines)
#      (reverse)
#      (unlines))
# ```
#%% [markdown]
# `Eta reduction` removes unnecessary parameters from the function definition.

#%%
process = unlines . reverse . lines

putStrLn $ process poem

#%% [markdown]
# The operator `$` helps to save parantheses. Haskellers don`t like parantheses. The following to function invokations are all equivalent:
# 
# ```haskell
# putStrLn (process poem)
# putStrLn $ process poem
# (putStrLn . process) poem
# ```
#%% [markdown]
# Define more functions like that on blocks of text.

#%%
reversLines   = unlines . reverse . lines
firstTwoLines = unlines . (take 2) . lines
lastLine      = unlines . (take 1 . reverse) . lines


#%%
putStrLn $ lastLine poem

#%% [markdown]
# Line splitting and joining can be factored into a new function. This is *higher order programming* in Haskell.

#%%
byLine f = unlines . f . lines

reverseLines  = byLine reverse
firstTwoLines = byLine (take 2)
lastLine      = byLine (take 1 . reverse)


#%%
:type process

#%% [markdown]
# Write a new function to indent the lines.

#%%
indent :: String -> String
indent s = "    " ++ s

#%% [markdown]
# The first line is the *type signature* of the function. Type signatures are basically comments for the programmer, the compile does not need them most of the time. It uses *type inference* to calculate types for lall and any expression the code.
# 
# `ghci` can be asked to print the type for any expression. Check types for `poem`, `indent` and `reverse`.

#%%
:type 

#%% [markdown]
# Try to use the `indent` function.

#%%
indentLines = id

#%% [markdown]
# What is the problem? Look at the expected and actual types. Which type does `byLine` have? whicht type does `indent` have?

#%%
:type indent

#%% [markdown]
# How to apply a function on strings to a list of strings?
# 
# Use `map` to do that. Which type does `map` have?

#%%
:type map

#%% [markdown]
# `a` and `b` are *type variables* that state that map can be used on values of any type and lists on those values.
# 
# Use `map` to apply the `indent` function to a list of strings.

#%%
indentLines = byLine (map indent)


#%%
putStrLn $ indentLines poem

#%% [markdown]
# # Data 
# 
# Lists can be written in brackets `[]`. Lists can be constructed with the `:` operator which appends an element in front of a list.

#%%



#%%


#%% [markdown]
# Strings are just a list of characters.

#%%
'a':'b':[]

#%% [markdown]
# Functions can use *pattern matching* to perform different operations for different cases. Patterns are made of *constructors*.
# 
# Define function `count` to count the number of elements in a list.

#%%



#%%
count "Hallo"
count [1,2,3,4]

#%% [markdown]
# There was no type signature defined for `count` and it could be applied to lists of characters and lists of numbers. What is type of `count`?

#%%
:type count

#%% [markdown]
# `count` is automatically given the most generic type signature the compiler can find.
#%% [markdown]
# A *Tuple* is a fixed numbered collection of possibly heterogenous values. Define a tuple consisting of a number and a string.

#%%
(42, "hello")

#%% [markdown]
# Define a 3D vector type from tupel and define an add function. Use pattern matching.

#%%
type Vec3 = (Float, Float, Float)

add :: Vec3 -> Vec3 -> Vec3
add (x1, y1, z1) (x2, y2, z2) = (x1+x2, y1+y2, z1+z2)


#%%
:type add

#%% [markdown]
# *Algebraic data types* are composite user-defined types. Define a recursive binary tree type.

#%%


#%% [markdown]
# Define a function that calculates the depth of a tree.

#%%



#%%
t = Node 
      (Node 
         (Leaf "a") 
         (Node 
            Empty 
            (Leaf "b")))
    Empty
depth t

#%% [markdown]
# Final and most important question? 
# 
# - Is this better than a text editor an GHCi in a shell?

